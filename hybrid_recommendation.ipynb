{
  "nbformat": 4,
  "nbformat_minor": 0,
  "metadata": {
    "colab": {
      "provenance": []
    },
    "kernelspec": {
      "name": "python3",
      "display_name": "Python 3"
    },
    "language_info": {
      "name": "python"
    }
  },
  "cells": [
    {
      "cell_type": "markdown",
      "source": [
        "# Creating a Hybrid Recommendation System Based on Collaborative and Content-Based Models"
      ],
      "metadata": {
        "id": "aCiyoifQR8Db"
      }
    },
    {
      "cell_type": "code",
      "source": [
        "pip install annoy"
      ],
      "metadata": {
        "colab": {
          "base_uri": "https://localhost:8080/"
        },
        "id": "H8E1C9X9PO5T",
        "outputId": "f968445d-cb68-452b-fb8f-fccfaea21ef1"
      },
      "execution_count": 1,
      "outputs": [
        {
          "output_type": "stream",
          "name": "stdout",
          "text": [
            "Collecting annoy\n",
            "  Downloading annoy-1.17.3.tar.gz (647 kB)\n",
            "\u001b[2K     \u001b[90m━━━━━━━━━━━━━━━━━━━━━━━━━━━━━━━━━━━━━━━━\u001b[0m \u001b[32m647.5/647.5 kB\u001b[0m \u001b[31m5.4 MB/s\u001b[0m eta \u001b[36m0:00:00\u001b[0m\n",
            "\u001b[?25h  Preparing metadata (setup.py) ... \u001b[?25l\u001b[?25hdone\n",
            "Building wheels for collected packages: annoy\n",
            "  Building wheel for annoy (setup.py) ... \u001b[?25l\u001b[?25hdone\n",
            "  Created wheel for annoy: filename=annoy-1.17.3-cp310-cp310-linux_x86_64.whl size=552450 sha256=617581e07d5bd0f7b4dfafc7d5a2e6ab97b0c55f0b4b3f05dc43e236b8a88d99\n",
            "  Stored in directory: /root/.cache/pip/wheels/64/8a/da/f714bcf46c5efdcfcac0559e63370c21abe961c48e3992465a\n",
            "Successfully built annoy\n",
            "Installing collected packages: annoy\n",
            "Successfully installed annoy-1.17.3\n"
          ]
        }
      ]
    },
    {
      "cell_type": "code",
      "source": [
        "!pip install scikit-surprise"
      ],
      "metadata": {
        "colab": {
          "base_uri": "https://localhost:8080/"
        },
        "id": "s1JHD4tzRwlD",
        "outputId": "1765cfbf-ab0e-4426-a4eb-359ee18b8c8b"
      },
      "execution_count": 2,
      "outputs": [
        {
          "output_type": "stream",
          "name": "stdout",
          "text": [
            "Collecting scikit-surprise\n",
            "  Downloading scikit_surprise-1.1.4.tar.gz (154 kB)\n",
            "\u001b[?25l     \u001b[90m━━━━━━━━━━━━━━━━━━━━━━━━━━━━━━━━━━━━━━━━\u001b[0m \u001b[32m0.0/154.4 kB\u001b[0m \u001b[31m?\u001b[0m eta \u001b[36m-:--:--\u001b[0m\r\u001b[2K     \u001b[91m━━━━━━━━━━━━━━━━━━━━━━━━━━━━━━━\u001b[0m\u001b[91m╸\u001b[0m\u001b[90m━━━━━━━━\u001b[0m \u001b[32m122.9/154.4 kB\u001b[0m \u001b[31m3.4 MB/s\u001b[0m eta \u001b[36m0:00:01\u001b[0m\r\u001b[2K     \u001b[90m━━━━━━━━━━━━━━━━━━━━━━━━━━━━━━━━━━━━━━━━\u001b[0m \u001b[32m154.4/154.4 kB\u001b[0m \u001b[31m3.1 MB/s\u001b[0m eta \u001b[36m0:00:00\u001b[0m\n",
            "\u001b[?25h  Installing build dependencies ... \u001b[?25l\u001b[?25hdone\n",
            "  Getting requirements to build wheel ... \u001b[?25l\u001b[?25hdone\n",
            "  Preparing metadata (pyproject.toml) ... \u001b[?25l\u001b[?25hdone\n",
            "Requirement already satisfied: joblib>=1.2.0 in /usr/local/lib/python3.10/dist-packages (from scikit-surprise) (1.4.2)\n",
            "Requirement already satisfied: numpy>=1.19.5 in /usr/local/lib/python3.10/dist-packages (from scikit-surprise) (1.25.2)\n",
            "Requirement already satisfied: scipy>=1.6.0 in /usr/local/lib/python3.10/dist-packages (from scikit-surprise) (1.11.4)\n",
            "Building wheels for collected packages: scikit-surprise\n",
            "Installing collected packages: scikit-surprise\n",
            "Successfully installed scikit-surprise-1.1.4\n"
          ]
        }
      ]
    },
    {
      "cell_type": "code",
      "source": [
        "!pip install gdown"
      ],
      "metadata": {
        "colab": {
          "base_uri": "https://localhost:8080/"
        },
        "id": "6uYee5n0Hs77",
        "outputId": "039d2fb2-4fc3-415a-a4d2-7c742a0c14a5"
      },
      "execution_count": 3,
      "outputs": [
        {
          "output_type": "stream",
          "name": "stdout",
          "text": [
            "Requirement already satisfied: gdown in /usr/local/lib/python3.10/dist-packages (5.1.0)\n",
            "Requirement already satisfied: beautifulsoup4 in /usr/local/lib/python3.10/dist-packages (from gdown) (4.12.3)\n",
            "Requirement already satisfied: filelock in /usr/local/lib/python3.10/dist-packages (from gdown) (3.15.4)\n",
            "Requirement already satisfied: requests[socks] in /usr/local/lib/python3.10/dist-packages (from gdown) (2.31.0)\n",
            "Requirement already satisfied: tqdm in /usr/local/lib/python3.10/dist-packages (from gdown) (4.66.4)\n",
            "Requirement already satisfied: soupsieve>1.2 in /usr/local/lib/python3.10/dist-packages (from beautifulsoup4->gdown) (2.5)\n",
            "Requirement already satisfied: charset-normalizer<4,>=2 in /usr/local/lib/python3.10/dist-packages (from requests[socks]->gdown) (3.3.2)\n",
            "Requirement already satisfied: idna<4,>=2.5 in /usr/local/lib/python3.10/dist-packages (from requests[socks]->gdown) (3.7)\n",
            "Requirement already satisfied: urllib3<3,>=1.21.1 in /usr/local/lib/python3.10/dist-packages (from requests[socks]->gdown) (2.0.7)\n",
            "Requirement already satisfied: certifi>=2017.4.17 in /usr/local/lib/python3.10/dist-packages (from requests[socks]->gdown) (2024.6.2)\n",
            "Requirement already satisfied: PySocks!=1.5.7,>=1.5.6 in /usr/local/lib/python3.10/dist-packages (from requests[socks]->gdown) (1.7.1)\n"
          ]
        }
      ]
    },
    {
      "cell_type": "code",
      "execution_count": 4,
      "metadata": {
        "id": "UamJUhx4PHCL"
      },
      "outputs": [],
      "source": [
        "import gdown\n",
        "import joblib\n",
        "import pandas as pd\n",
        "import numpy as np\n",
        "from sklearn.feature_extraction.text import TfidfVectorizer\n",
        "from sklearn.metrics import precision_score, recall_score, f1_score\n",
        "from annoy import AnnoyIndex\n",
        "from surprise import Dataset, Reader, SVD\n",
        "import os\n",
        "import re"
      ]
    },
    {
      "cell_type": "markdown",
      "source": [
        "# Load the data"
      ],
      "metadata": {
        "id": "DyQ1_5ndC4Dn"
      }
    },
    {
      "cell_type": "code",
      "source": [
        "file_id = '11SQ7kKA4MslkNrF6eq7u0sm541i1WH7d'\n",
        "url = f'https://drive.google.com/uc?id={file_id}'\n",
        "output = 'sampled_data.csv'\n",
        "\n",
        "gdown.download(url, output, quiet=False)\n",
        "\n",
        "sampled_data = pd.read_csv(output)\n",
        "sampled_data.head()"
      ],
      "metadata": {
        "colab": {
          "base_uri": "https://localhost:8080/",
          "height": 297
        },
        "id": "3op8qlGrXsay",
        "outputId": "b66694f9-ab2a-4590-b1a8-71d97c4dcde4"
      },
      "execution_count": 5,
      "outputs": [
        {
          "output_type": "stream",
          "name": "stderr",
          "text": [
            "Downloading...\n",
            "From (original): https://drive.google.com/uc?id=11SQ7kKA4MslkNrF6eq7u0sm541i1WH7d\n",
            "From (redirected): https://drive.google.com/uc?id=11SQ7kKA4MslkNrF6eq7u0sm541i1WH7d&confirm=t&uuid=9ee906cc-5859-4fab-b01b-e2cfbddb9a78\n",
            "To: /content/sampled_data.csv\n",
            "100%|██████████| 247M/247M [00:03<00:00, 81.9MB/s]\n"
          ]
        },
        {
          "output_type": "execute_result",
          "data": {
            "text/plain": [
              "    app_id                                        tags_string  user_id  \\\n",
              "0   951440  Open World Survival Craft, Survival, Open Worl...  9074881   \n",
              "1    32440  LEGO, Local Co-Op, Adventure, Co-op, Family Fr...  6006822   \n",
              "2   615610  Indie, Casual, Action, Space, 2D, Singleplayer...     1239   \n",
              "3  1097840  Action, Adventure, Multiplayer, Third-Person S...  9255103   \n",
              "4   464060  Cyberpunk, Action, Top-Down Shooter, Great Sou...  5324004   \n",
              "\n",
              "                                  title  rating_numeric  \n",
              "0                            Volcanoids             4.5  \n",
              "1  LEGO® Star Wars™ - The Complete Saga             5.0  \n",
              "2                               Orbt XL             5.0  \n",
              "3                               Gears 5             3.5  \n",
              "4                                RUINER             4.5  "
            ],
            "text/html": [
              "\n",
              "  <div id=\"df-e2a44b58-0d4e-4e12-9988-34fcac6542be\" class=\"colab-df-container\">\n",
              "    <div>\n",
              "<style scoped>\n",
              "    .dataframe tbody tr th:only-of-type {\n",
              "        vertical-align: middle;\n",
              "    }\n",
              "\n",
              "    .dataframe tbody tr th {\n",
              "        vertical-align: top;\n",
              "    }\n",
              "\n",
              "    .dataframe thead th {\n",
              "        text-align: right;\n",
              "    }\n",
              "</style>\n",
              "<table border=\"1\" class=\"dataframe\">\n",
              "  <thead>\n",
              "    <tr style=\"text-align: right;\">\n",
              "      <th></th>\n",
              "      <th>app_id</th>\n",
              "      <th>tags_string</th>\n",
              "      <th>user_id</th>\n",
              "      <th>title</th>\n",
              "      <th>rating_numeric</th>\n",
              "    </tr>\n",
              "  </thead>\n",
              "  <tbody>\n",
              "    <tr>\n",
              "      <th>0</th>\n",
              "      <td>951440</td>\n",
              "      <td>Open World Survival Craft, Survival, Open Worl...</td>\n",
              "      <td>9074881</td>\n",
              "      <td>Volcanoids</td>\n",
              "      <td>4.5</td>\n",
              "    </tr>\n",
              "    <tr>\n",
              "      <th>1</th>\n",
              "      <td>32440</td>\n",
              "      <td>LEGO, Local Co-Op, Adventure, Co-op, Family Fr...</td>\n",
              "      <td>6006822</td>\n",
              "      <td>LEGO® Star Wars™ - The Complete Saga</td>\n",
              "      <td>5.0</td>\n",
              "    </tr>\n",
              "    <tr>\n",
              "      <th>2</th>\n",
              "      <td>615610</td>\n",
              "      <td>Indie, Casual, Action, Space, 2D, Singleplayer...</td>\n",
              "      <td>1239</td>\n",
              "      <td>Orbt XL</td>\n",
              "      <td>5.0</td>\n",
              "    </tr>\n",
              "    <tr>\n",
              "      <th>3</th>\n",
              "      <td>1097840</td>\n",
              "      <td>Action, Adventure, Multiplayer, Third-Person S...</td>\n",
              "      <td>9255103</td>\n",
              "      <td>Gears 5</td>\n",
              "      <td>3.5</td>\n",
              "    </tr>\n",
              "    <tr>\n",
              "      <th>4</th>\n",
              "      <td>464060</td>\n",
              "      <td>Cyberpunk, Action, Top-Down Shooter, Great Sou...</td>\n",
              "      <td>5324004</td>\n",
              "      <td>RUINER</td>\n",
              "      <td>4.5</td>\n",
              "    </tr>\n",
              "  </tbody>\n",
              "</table>\n",
              "</div>\n",
              "    <div class=\"colab-df-buttons\">\n",
              "\n",
              "  <div class=\"colab-df-container\">\n",
              "    <button class=\"colab-df-convert\" onclick=\"convertToInteractive('df-e2a44b58-0d4e-4e12-9988-34fcac6542be')\"\n",
              "            title=\"Convert this dataframe to an interactive table.\"\n",
              "            style=\"display:none;\">\n",
              "\n",
              "  <svg xmlns=\"http://www.w3.org/2000/svg\" height=\"24px\" viewBox=\"0 -960 960 960\">\n",
              "    <path d=\"M120-120v-720h720v720H120Zm60-500h600v-160H180v160Zm220 220h160v-160H400v160Zm0 220h160v-160H400v160ZM180-400h160v-160H180v160Zm440 0h160v-160H620v160ZM180-180h160v-160H180v160Zm440 0h160v-160H620v160Z\"/>\n",
              "  </svg>\n",
              "    </button>\n",
              "\n",
              "  <style>\n",
              "    .colab-df-container {\n",
              "      display:flex;\n",
              "      gap: 12px;\n",
              "    }\n",
              "\n",
              "    .colab-df-convert {\n",
              "      background-color: #E8F0FE;\n",
              "      border: none;\n",
              "      border-radius: 50%;\n",
              "      cursor: pointer;\n",
              "      display: none;\n",
              "      fill: #1967D2;\n",
              "      height: 32px;\n",
              "      padding: 0 0 0 0;\n",
              "      width: 32px;\n",
              "    }\n",
              "\n",
              "    .colab-df-convert:hover {\n",
              "      background-color: #E2EBFA;\n",
              "      box-shadow: 0px 1px 2px rgba(60, 64, 67, 0.3), 0px 1px 3px 1px rgba(60, 64, 67, 0.15);\n",
              "      fill: #174EA6;\n",
              "    }\n",
              "\n",
              "    .colab-df-buttons div {\n",
              "      margin-bottom: 4px;\n",
              "    }\n",
              "\n",
              "    [theme=dark] .colab-df-convert {\n",
              "      background-color: #3B4455;\n",
              "      fill: #D2E3FC;\n",
              "    }\n",
              "\n",
              "    [theme=dark] .colab-df-convert:hover {\n",
              "      background-color: #434B5C;\n",
              "      box-shadow: 0px 1px 3px 1px rgba(0, 0, 0, 0.15);\n",
              "      filter: drop-shadow(0px 1px 2px rgba(0, 0, 0, 0.3));\n",
              "      fill: #FFFFFF;\n",
              "    }\n",
              "  </style>\n",
              "\n",
              "    <script>\n",
              "      const buttonEl =\n",
              "        document.querySelector('#df-e2a44b58-0d4e-4e12-9988-34fcac6542be button.colab-df-convert');\n",
              "      buttonEl.style.display =\n",
              "        google.colab.kernel.accessAllowed ? 'block' : 'none';\n",
              "\n",
              "      async function convertToInteractive(key) {\n",
              "        const element = document.querySelector('#df-e2a44b58-0d4e-4e12-9988-34fcac6542be');\n",
              "        const dataTable =\n",
              "          await google.colab.kernel.invokeFunction('convertToInteractive',\n",
              "                                                    [key], {});\n",
              "        if (!dataTable) return;\n",
              "\n",
              "        const docLinkHtml = 'Like what you see? Visit the ' +\n",
              "          '<a target=\"_blank\" href=https://colab.research.google.com/notebooks/data_table.ipynb>data table notebook</a>'\n",
              "          + ' to learn more about interactive tables.';\n",
              "        element.innerHTML = '';\n",
              "        dataTable['output_type'] = 'display_data';\n",
              "        await google.colab.output.renderOutput(dataTable, element);\n",
              "        const docLink = document.createElement('div');\n",
              "        docLink.innerHTML = docLinkHtml;\n",
              "        element.appendChild(docLink);\n",
              "      }\n",
              "    </script>\n",
              "  </div>\n",
              "\n",
              "\n",
              "<div id=\"df-678f9177-6fb4-46ca-99db-344b0e81518d\">\n",
              "  <button class=\"colab-df-quickchart\" onclick=\"quickchart('df-678f9177-6fb4-46ca-99db-344b0e81518d')\"\n",
              "            title=\"Suggest charts\"\n",
              "            style=\"display:none;\">\n",
              "\n",
              "<svg xmlns=\"http://www.w3.org/2000/svg\" height=\"24px\"viewBox=\"0 0 24 24\"\n",
              "     width=\"24px\">\n",
              "    <g>\n",
              "        <path d=\"M19 3H5c-1.1 0-2 .9-2 2v14c0 1.1.9 2 2 2h14c1.1 0 2-.9 2-2V5c0-1.1-.9-2-2-2zM9 17H7v-7h2v7zm4 0h-2V7h2v10zm4 0h-2v-4h2v4z\"/>\n",
              "    </g>\n",
              "</svg>\n",
              "  </button>\n",
              "\n",
              "<style>\n",
              "  .colab-df-quickchart {\n",
              "      --bg-color: #E8F0FE;\n",
              "      --fill-color: #1967D2;\n",
              "      --hover-bg-color: #E2EBFA;\n",
              "      --hover-fill-color: #174EA6;\n",
              "      --disabled-fill-color: #AAA;\n",
              "      --disabled-bg-color: #DDD;\n",
              "  }\n",
              "\n",
              "  [theme=dark] .colab-df-quickchart {\n",
              "      --bg-color: #3B4455;\n",
              "      --fill-color: #D2E3FC;\n",
              "      --hover-bg-color: #434B5C;\n",
              "      --hover-fill-color: #FFFFFF;\n",
              "      --disabled-bg-color: #3B4455;\n",
              "      --disabled-fill-color: #666;\n",
              "  }\n",
              "\n",
              "  .colab-df-quickchart {\n",
              "    background-color: var(--bg-color);\n",
              "    border: none;\n",
              "    border-radius: 50%;\n",
              "    cursor: pointer;\n",
              "    display: none;\n",
              "    fill: var(--fill-color);\n",
              "    height: 32px;\n",
              "    padding: 0;\n",
              "    width: 32px;\n",
              "  }\n",
              "\n",
              "  .colab-df-quickchart:hover {\n",
              "    background-color: var(--hover-bg-color);\n",
              "    box-shadow: 0 1px 2px rgba(60, 64, 67, 0.3), 0 1px 3px 1px rgba(60, 64, 67, 0.15);\n",
              "    fill: var(--button-hover-fill-color);\n",
              "  }\n",
              "\n",
              "  .colab-df-quickchart-complete:disabled,\n",
              "  .colab-df-quickchart-complete:disabled:hover {\n",
              "    background-color: var(--disabled-bg-color);\n",
              "    fill: var(--disabled-fill-color);\n",
              "    box-shadow: none;\n",
              "  }\n",
              "\n",
              "  .colab-df-spinner {\n",
              "    border: 2px solid var(--fill-color);\n",
              "    border-color: transparent;\n",
              "    border-bottom-color: var(--fill-color);\n",
              "    animation:\n",
              "      spin 1s steps(1) infinite;\n",
              "  }\n",
              "\n",
              "  @keyframes spin {\n",
              "    0% {\n",
              "      border-color: transparent;\n",
              "      border-bottom-color: var(--fill-color);\n",
              "      border-left-color: var(--fill-color);\n",
              "    }\n",
              "    20% {\n",
              "      border-color: transparent;\n",
              "      border-left-color: var(--fill-color);\n",
              "      border-top-color: var(--fill-color);\n",
              "    }\n",
              "    30% {\n",
              "      border-color: transparent;\n",
              "      border-left-color: var(--fill-color);\n",
              "      border-top-color: var(--fill-color);\n",
              "      border-right-color: var(--fill-color);\n",
              "    }\n",
              "    40% {\n",
              "      border-color: transparent;\n",
              "      border-right-color: var(--fill-color);\n",
              "      border-top-color: var(--fill-color);\n",
              "    }\n",
              "    60% {\n",
              "      border-color: transparent;\n",
              "      border-right-color: var(--fill-color);\n",
              "    }\n",
              "    80% {\n",
              "      border-color: transparent;\n",
              "      border-right-color: var(--fill-color);\n",
              "      border-bottom-color: var(--fill-color);\n",
              "    }\n",
              "    90% {\n",
              "      border-color: transparent;\n",
              "      border-bottom-color: var(--fill-color);\n",
              "    }\n",
              "  }\n",
              "</style>\n",
              "\n",
              "  <script>\n",
              "    async function quickchart(key) {\n",
              "      const quickchartButtonEl =\n",
              "        document.querySelector('#' + key + ' button');\n",
              "      quickchartButtonEl.disabled = true;  // To prevent multiple clicks.\n",
              "      quickchartButtonEl.classList.add('colab-df-spinner');\n",
              "      try {\n",
              "        const charts = await google.colab.kernel.invokeFunction(\n",
              "            'suggestCharts', [key], {});\n",
              "      } catch (error) {\n",
              "        console.error('Error during call to suggestCharts:', error);\n",
              "      }\n",
              "      quickchartButtonEl.classList.remove('colab-df-spinner');\n",
              "      quickchartButtonEl.classList.add('colab-df-quickchart-complete');\n",
              "    }\n",
              "    (() => {\n",
              "      let quickchartButtonEl =\n",
              "        document.querySelector('#df-678f9177-6fb4-46ca-99db-344b0e81518d button');\n",
              "      quickchartButtonEl.style.display =\n",
              "        google.colab.kernel.accessAllowed ? 'block' : 'none';\n",
              "    })();\n",
              "  </script>\n",
              "</div>\n",
              "\n",
              "    </div>\n",
              "  </div>\n"
            ],
            "application/vnd.google.colaboratory.intrinsic+json": {
              "type": "dataframe",
              "variable_name": "sampled_data"
            }
          },
          "metadata": {},
          "execution_count": 5
        }
      ]
    },
    {
      "cell_type": "code",
      "source": [
        "# Function to preprocess tags\n",
        "def preprocess_tags(tags):\n",
        "    # remove special characters and convert to lower case\n",
        "    tags = re.sub(r'[^\\w\\s]', '', tags).lower()\n",
        "    return tags"
      ],
      "metadata": {
        "id": "mExyhS0QX9P7"
      },
      "execution_count": 6,
      "outputs": []
    },
    {
      "cell_type": "code",
      "source": [
        "# Apply preprocessing to tags\n",
        "sampled_data['tags_string'] = sampled_data['tags_string'].fillna('').apply(preprocess_tags)"
      ],
      "metadata": {
        "id": "9GXauhemYGXd"
      },
      "execution_count": 7,
      "outputs": []
    },
    {
      "cell_type": "markdown",
      "source": [
        "# Load the models"
      ],
      "metadata": {
        "id": "ORC4W7tZDFsH"
      }
    },
    {
      "cell_type": "code",
      "source": [
        "from google.colab import drive\n",
        "drive.mount('/content/drive')"
      ],
      "metadata": {
        "colab": {
          "base_uri": "https://localhost:8080/"
        },
        "id": "a2rSvLbcSfut",
        "outputId": "8b5bc79c-08ce-45d4-f30a-4ce359dbaa75"
      },
      "execution_count": 8,
      "outputs": [
        {
          "output_type": "stream",
          "name": "stdout",
          "text": [
            "Mounted at /content/drive\n"
          ]
        }
      ]
    },
    {
      "cell_type": "code",
      "source": [
        "svd_model_url = 'https://drive.google.com/uc?id=1AMH6Ob2UeM8JbfKcdEDqB2qfPU5ORFwZ'\n",
        "tfidf_matrix_url = 'https://drive.google.com/uc?id=1-0VocEr64qAgcmesbr2k66fVoaYH45gN'\n",
        "tfidf_vectorizer_url = 'https://drive.google.com/uc?id=1-0qfCOLgGUbjQwumjV2RoIQwsg75p66J'"
      ],
      "metadata": {
        "id": "k4NUxGTnPsaX"
      },
      "execution_count": 9,
      "outputs": []
    },
    {
      "cell_type": "code",
      "source": [
        "gdown.download(svd_model_url, 'svd_model.pkl', quiet=False)\n",
        "gdown.download(tfidf_matrix_url, 'tfidf_matrix.pkl', quiet=False)\n",
        "gdown.download(tfidf_vectorizer_url, 'tfidf_vectorizer.pkl', quiet=False)"
      ],
      "metadata": {
        "colab": {
          "base_uri": "https://localhost:8080/",
          "height": 290
        },
        "id": "Tb5wYVpPRN1u",
        "outputId": "09447236-7f4c-4f9f-bcc1-b8c69a30d33a"
      },
      "execution_count": 10,
      "outputs": [
        {
          "output_type": "stream",
          "name": "stderr",
          "text": [
            "Downloading...\n",
            "From (original): https://drive.google.com/uc?id=1AMH6Ob2UeM8JbfKcdEDqB2qfPU5ORFwZ\n",
            "From (redirected): https://drive.google.com/uc?id=1AMH6Ob2UeM8JbfKcdEDqB2qfPU5ORFwZ&confirm=t&uuid=ef9b086a-7962-4683-9f69-8bc44da7bab1\n",
            "To: /content/svd_model.pkl\n",
            "100%|██████████| 422M/422M [00:05<00:00, 73.8MB/s]\n",
            "Downloading...\n",
            "From (original): https://drive.google.com/uc?id=1-0VocEr64qAgcmesbr2k66fVoaYH45gN\n",
            "From (redirected): https://drive.google.com/uc?id=1-0VocEr64qAgcmesbr2k66fVoaYH45gN&confirm=t&uuid=8977ebb2-b4b6-4a98-b59a-0959a3ba25ee\n",
            "To: /content/tfidf_matrix.pkl\n",
            "100%|██████████| 260M/260M [00:03<00:00, 76.4MB/s]\n",
            "Downloading...\n",
            "From: https://drive.google.com/uc?id=1-0qfCOLgGUbjQwumjV2RoIQwsg75p66J\n",
            "To: /content/tfidf_vectorizer.pkl\n",
            "100%|██████████| 14.4k/14.4k [00:00<00:00, 23.2MB/s]\n"
          ]
        },
        {
          "output_type": "execute_result",
          "data": {
            "text/plain": [
              "'tfidf_vectorizer.pkl'"
            ],
            "application/vnd.google.colaboratory.intrinsic+json": {
              "type": "string"
            }
          },
          "metadata": {},
          "execution_count": 10
        }
      ]
    },
    {
      "cell_type": "code",
      "source": [
        "model_dir = '/content/drive/MyDrive/models'\n",
        "annoy_index_path = os.path.join(model_dir, 'annoy_index.ann')\n",
        "assert os.path.exists(annoy_index_path), f\"File not found at path: {annoy_index_path}\""
      ],
      "metadata": {
        "id": "fMUohETURUtz"
      },
      "execution_count": 11,
      "outputs": []
    },
    {
      "cell_type": "code",
      "source": [
        "svd_model = joblib.load('svd_model.pkl')\n",
        "tfidf_matrix = joblib.load('tfidf_matrix.pkl')\n",
        "tfidf_vectorizer = joblib.load('tfidf_vectorizer.pkl')"
      ],
      "metadata": {
        "id": "I2XU_mR7RaFU"
      },
      "execution_count": 12,
      "outputs": []
    },
    {
      "cell_type": "code",
      "source": [
        "# determine the dimensionality of the TF-IDF vector\n",
        "f = tfidf_matrix.shape[1]"
      ],
      "metadata": {
        "id": "FlLFaDAmY60P"
      },
      "execution_count": 13,
      "outputs": []
    },
    {
      "cell_type": "code",
      "source": [
        "annoy_index = AnnoyIndex(f, metric='angular')\n",
        "annoy_index.load(annoy_index_path)"
      ],
      "metadata": {
        "colab": {
          "base_uri": "https://localhost:8080/"
        },
        "id": "-fMlelHaDpAW",
        "outputId": "ba27be56-30d5-4293-ac5c-16a7026e8509"
      },
      "execution_count": 14,
      "outputs": [
        {
          "output_type": "execute_result",
          "data": {
            "text/plain": [
              "True"
            ]
          },
          "metadata": {},
          "execution_count": 14
        }
      ]
    },
    {
      "cell_type": "markdown",
      "source": [
        "# Recommendations"
      ],
      "metadata": {
        "id": "fSacmES5D_Eu"
      }
    },
    {
      "cell_type": "code",
      "source": [
        "# function to recommend games based on SVD model\n",
        "def svd_recommend(user_id, n_recommendations=50):\n",
        "    app_ids = sampled_data['app_id'].unique()\n",
        "    user_ratings = [(app_id, svd_model.predict(user_id, app_id).est) for app_id in app_ids]\n",
        "    user_ratings.sort(key=lambda x: x[1], reverse=True)\n",
        "    top_items = [app_id for app_id, rating in user_ratings[:n_recommendations]]\n",
        "    return top_items"
      ],
      "metadata": {
        "id": "FF9ejMOvD1Ny"
      },
      "execution_count": 27,
      "outputs": []
    },
    {
      "cell_type": "code",
      "source": [
        "# function to recommend games based on TF-IDF model\n",
        "def tfidf_recommend(app_id, n_recommendations=50):\n",
        "    item_idx = sampled_data[sampled_data['app_id'] == app_id].index[0]\n",
        "    item_vector = tfidf_matrix[item_idx].toarray()\n",
        "    similar_items_idx = annoy_index.get_nns_by_vector(item_vector[0], n_recommendations)\n",
        "    similar_items = sampled_data.iloc[similar_items_idx]['app_id'].tolist()\n",
        "    return similar_items"
      ],
      "metadata": {
        "id": "5zD9ZW2tEHlP"
      },
      "execution_count": 28,
      "outputs": []
    },
    {
      "cell_type": "code",
      "source": [
        "# hybrid recommendation combining SVD and TF-IDF recommendations\n",
        "def hybrid_recommend(user_id, app_id, n_recommendations=10):\n",
        "    svd_recs = svd_recommend(user_id, n_recommendations)\n",
        "    tfidf_recs = tfidf_recommend(app_id, n_recommendations)\n",
        "    hybrid_recs = list(set(svd_recs).union(set(tfidf_recs)))\n",
        "    return hybrid_recs[:n_recommendations]"
      ],
      "metadata": {
        "id": "Z44OJzFVJy5J"
      },
      "execution_count": 39,
      "outputs": []
    },
    {
      "cell_type": "code",
      "source": [
        "# function to get game titles based on app_ids\n",
        "def get_titles_from_ids(app_ids):\n",
        "    return sampled_data[sampled_data['app_id'].isin(app_ids)]['title'].unique().tolist()"
      ],
      "metadata": {
        "id": "WbTES45VQacV"
      },
      "execution_count": 40,
      "outputs": []
    },
    {
      "cell_type": "code",
      "source": [
        "# Function to recommend games for a user and get game titles\n",
        "def recommend_games_for_user(user_id, n_recommendations=10):\n",
        "    user_apps = sampled_data[sampled_data['user_id'] == user_id]['app_id']\n",
        "    app_id = user_apps.iloc[0] if not user_apps.empty else sampled_data['app_id'].iloc[0]\n",
        "    recommendations = hybrid_recommend(user_id, app_id, n_recommendations)\n",
        "    titles = get_titles_from_ids(recommendations)\n",
        "    return recommendations, titles\n",
        "\n",
        "# Input user ID\n",
        "input_user_id = int(input(\"Enter user ID: \"))\n",
        "recommended_ids, recommended_titles = recommend_games_for_user(input_user_id, n_recommendations=10)\n",
        "print(f\"Top 10 recommended games for user {input_user_id}:\")\n",
        "for idx, title in enumerate(recommended_titles, 1):\n",
        "    print(f\"{idx}. {title}\")"
      ],
      "metadata": {
        "colab": {
          "base_uri": "https://localhost:8080/"
        },
        "id": "vqK7t2h4QldM",
        "outputId": "aad9fc90-bd9c-418f-cdc3-1beb7d2ec0a4"
      },
      "execution_count": 41,
      "outputs": [
        {
          "output_type": "stream",
          "name": "stdout",
          "text": [
            "Enter user ID: 9255103\n",
            "Top 10 recommended games for user 9255103:\n",
            "1. Gears 5\n",
            "2. Yuppie Psycho: Executive Edition\n",
            "3. Gorogoa\n",
            "4. Placid Plastic Duck Simulator\n",
            "5. DOOM II\n",
            "6. Motor Town: Behind The Wheel\n",
            "7. Senren＊Banka\n",
            "8. Poly Bridge 2\n",
            "9. LYNE\n",
            "10. Neon White\n"
          ]
        }
      ]
    },
    {
      "cell_type": "markdown",
      "source": [
        "# Evaluate"
      ],
      "metadata": {
        "id": "vTwt0V0eLSfk"
      }
    },
    {
      "cell_type": "code",
      "source": [
        "def evaluate_recommendations(recommendations, true_items):\n",
        "    recommendations_set = set(recommendations)\n",
        "    y_true = [1 if app_id in recommendations_set else 0 for app_id in true_items]\n",
        "    y_pred = [1] * len(y_true)\n",
        "    precision = precision_score(y_true, y_pred, zero_division=0)\n",
        "    recall = recall_score(y_true, y_pred, zero_division=0)\n",
        "    f1 = f1_score(y_true, y_pred, zero_division=0)\n",
        "    return precision, recall, f1\n",
        "\n",
        "true_items = sampled_data[sampled_data['user_id'] == input_user_id]['app_id'].tolist()\n",
        "print(f\"True Items: {true_items}\")\n",
        "print(f\"Recommendations: {recommended_ids}\")\n",
        "precision, recall, f1 = evaluate_recommendations(recommended_ids, true_items)\n",
        "print(f'Precision: {precision}, Recall: {recall}, F1: {f1}')"
      ],
      "metadata": {
        "colab": {
          "base_uri": "https://localhost:8080/"
        },
        "id": "10gV4dSQLRFR",
        "outputId": "a0df5e0a-15c3-4344-de4d-05c2d292d26f"
      },
      "execution_count": 42,
      "outputs": [
        {
          "output_type": "stream",
          "name": "stdout",
          "text": [
            "True Items: [1097840]\n",
            "Recommendations: [597760, 1999360, 557600, 1369670, 1533420, 1144400, 1062160, 1097840, 2300, 266010]\n",
            "Precision: 1.0, Recall: 1.0, F1: 1.0\n"
          ]
        }
      ]
    }
  ]
}