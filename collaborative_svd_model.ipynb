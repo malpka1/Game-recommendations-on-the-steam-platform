{
  "nbformat": 4,
  "nbformat_minor": 0,
  "metadata": {
    "colab": {
      "provenance": []
    },
    "kernelspec": {
      "name": "python3",
      "display_name": "Python 3"
    },
    "language_info": {
      "name": "python"
    }
  },
  "cells": [
    {
      "cell_type": "markdown",
      "source": [
        "# Overview\n",
        "\n",
        "Сreating a recommendation system using the collaborative filtering method based on matrix factorization (SVD). It predicts game ratings for users based on their past ratings and recommends games that users have not yet rated. The primary goal is to provide personalized recommendations that help users discover interesting games on the Steam platform."
      ],
      "metadata": {
        "id": "4F5Nu_1j0xlv"
      }
    },
    {
      "cell_type": "code",
      "source": [
        "pip install gdown"
      ],
      "metadata": {
        "colab": {
          "base_uri": "https://localhost:8080/"
        },
        "id": "04L_KBAxpGAK",
        "outputId": "e73b1bfd-798c-454b-ec62-b460e812075b"
      },
      "execution_count": 1,
      "outputs": [
        {
          "output_type": "stream",
          "name": "stdout",
          "text": [
            "Requirement already satisfied: gdown in /usr/local/lib/python3.10/dist-packages (5.1.0)\n",
            "Requirement already satisfied: beautifulsoup4 in /usr/local/lib/python3.10/dist-packages (from gdown) (4.12.3)\n",
            "Requirement already satisfied: filelock in /usr/local/lib/python3.10/dist-packages (from gdown) (3.15.3)\n",
            "Requirement already satisfied: requests[socks] in /usr/local/lib/python3.10/dist-packages (from gdown) (2.31.0)\n",
            "Requirement already satisfied: tqdm in /usr/local/lib/python3.10/dist-packages (from gdown) (4.66.4)\n",
            "Requirement already satisfied: soupsieve>1.2 in /usr/local/lib/python3.10/dist-packages (from beautifulsoup4->gdown) (2.5)\n",
            "Requirement already satisfied: charset-normalizer<4,>=2 in /usr/local/lib/python3.10/dist-packages (from requests[socks]->gdown) (3.3.2)\n",
            "Requirement already satisfied: idna<4,>=2.5 in /usr/local/lib/python3.10/dist-packages (from requests[socks]->gdown) (3.7)\n",
            "Requirement already satisfied: urllib3<3,>=1.21.1 in /usr/local/lib/python3.10/dist-packages (from requests[socks]->gdown) (2.0.7)\n",
            "Requirement already satisfied: certifi>=2017.4.17 in /usr/local/lib/python3.10/dist-packages (from requests[socks]->gdown) (2024.6.2)\n",
            "Requirement already satisfied: PySocks!=1.5.7,>=1.5.6 in /usr/local/lib/python3.10/dist-packages (from requests[socks]->gdown) (1.7.1)\n"
          ]
        }
      ]
    },
    {
      "cell_type": "code",
      "source": [
        "pip install scikit-surprise"
      ],
      "metadata": {
        "colab": {
          "base_uri": "https://localhost:8080/"
        },
        "id": "Rlfm9iwup9A_",
        "outputId": "cb7b4f62-3f19-4040-be8e-b6036e209514"
      },
      "execution_count": 2,
      "outputs": [
        {
          "output_type": "stream",
          "name": "stdout",
          "text": [
            "Collecting scikit-surprise\n",
            "  Downloading scikit_surprise-1.1.4.tar.gz (154 kB)\n",
            "\u001b[?25l     \u001b[90m━━━━━━━━━━━━━━━━━━━━━━━━━━━━━━━━━━━━━━━━\u001b[0m \u001b[32m0.0/154.4 kB\u001b[0m \u001b[31m?\u001b[0m eta \u001b[36m-:--:--\u001b[0m\r\u001b[2K     \u001b[91m━━━━━━━━━━━━━━━━━━━━━━━━━━━━━━━━━━━━━━━\u001b[0m\u001b[91m╸\u001b[0m \u001b[32m153.6/154.4 kB\u001b[0m \u001b[31m4.5 MB/s\u001b[0m eta \u001b[36m0:00:01\u001b[0m\r\u001b[2K     \u001b[90m━━━━━━━━━━━━━━━━━━━━━━━━━━━━━━━━━━━━━━━━\u001b[0m \u001b[32m154.4/154.4 kB\u001b[0m \u001b[31m3.2 MB/s\u001b[0m eta \u001b[36m0:00:00\u001b[0m\n",
            "\u001b[?25h  Installing build dependencies ... \u001b[?25l\u001b[?25hdone\n",
            "  Getting requirements to build wheel ... \u001b[?25l\u001b[?25hdone\n",
            "  Preparing metadata (pyproject.toml) ... \u001b[?25l\u001b[?25hdone\n",
            "Requirement already satisfied: joblib>=1.2.0 in /usr/local/lib/python3.10/dist-packages (from scikit-surprise) (1.4.2)\n",
            "Requirement already satisfied: numpy>=1.19.5 in /usr/local/lib/python3.10/dist-packages (from scikit-surprise) (1.25.2)\n",
            "Requirement already satisfied: scipy>=1.6.0 in /usr/local/lib/python3.10/dist-packages (from scikit-surprise) (1.11.4)\n",
            "Building wheels for collected packages: scikit-surprise\n",
            "  Building wheel for scikit-surprise (pyproject.toml) ... \u001b[?25l\u001b[?25hdone\n",
            "  Created wheel for scikit-surprise: filename=scikit_surprise-1.1.4-cp310-cp310-linux_x86_64.whl size=2357254 sha256=20d76684ee5e4171601ddf46e2d8ab4573e3d2a3ff9c0dac4067af3e20e54fdf\n",
            "  Stored in directory: /root/.cache/pip/wheels/4b/3f/df/6acbf0a40397d9bf3ff97f582cc22fb9ce66adde75bc71fd54\n",
            "Successfully built scikit-surprise\n",
            "Installing collected packages: scikit-surprise\n",
            "Successfully installed scikit-surprise-1.1.4\n"
          ]
        }
      ]
    },
    {
      "cell_type": "code",
      "source": [
        "# imports\n",
        "import gdown\n",
        "import pandas as pd\n",
        "import numpy as np\n",
        "import json\n",
        "import pickle\n",
        "from surprise import Dataset, Reader, SVD, accuracy\n",
        "from surprise.model_selection import train_test_split, GridSearchCV\n",
        "from sklearn.metrics import ndcg_score\n",
        "import matplotlib.pyplot as plt\n",
        "import seaborn as sn\n",
        "from surprise.model_selection import cross_validate"
      ],
      "metadata": {
        "id": "8v5MXSNopmjX"
      },
      "execution_count": 3,
      "outputs": []
    },
    {
      "cell_type": "code",
      "source": [
        "# downloading a file\n",
        "file_id = '11SQ7kKA4MslkNrF6eq7u0sm541i1WH7d'\n",
        "url = f'https://drive.google.com/uc?id={file_id}'\n",
        "output = 'sampled_data.csv'\n",
        "\n",
        "gdown.download(url, output, quiet=False)\n",
        "\n",
        "sampled_data = pd.read_csv(output)\n",
        "sampled_data.head()"
      ],
      "metadata": {
        "colab": {
          "base_uri": "https://localhost:8080/",
          "height": 297
        },
        "id": "QfXvL41CuxGo",
        "outputId": "1d97f062-52bd-46af-f01a-85a64f5ea9cd"
      },
      "execution_count": 8,
      "outputs": [
        {
          "output_type": "stream",
          "name": "stderr",
          "text": [
            "Downloading...\n",
            "From (original): https://drive.google.com/uc?id=11SQ7kKA4MslkNrF6eq7u0sm541i1WH7d\n",
            "From (redirected): https://drive.google.com/uc?id=11SQ7kKA4MslkNrF6eq7u0sm541i1WH7d&confirm=t&uuid=02013129-aae4-4278-81e5-c74df05a2302\n",
            "To: /content/sampled_data.csv\n",
            "100%|██████████| 247M/247M [00:03<00:00, 66.1MB/s]\n"
          ]
        },
        {
          "output_type": "execute_result",
          "data": {
            "text/plain": [
              "    app_id                                        tags_string  user_id  \\\n",
              "0   951440  Open World Survival Craft, Survival, Open Worl...  9074881   \n",
              "1    32440  LEGO, Local Co-Op, Adventure, Co-op, Family Fr...  6006822   \n",
              "2   615610  Indie, Casual, Action, Space, 2D, Singleplayer...     1239   \n",
              "3  1097840  Action, Adventure, Multiplayer, Third-Person S...  9255103   \n",
              "4   464060  Cyberpunk, Action, Top-Down Shooter, Great Sou...  5324004   \n",
              "\n",
              "                                  title  rating_numeric  \n",
              "0                            Volcanoids             4.5  \n",
              "1  LEGO® Star Wars™ - The Complete Saga             5.0  \n",
              "2                               Orbt XL             5.0  \n",
              "3                               Gears 5             3.5  \n",
              "4                                RUINER             4.5  "
            ],
            "text/html": [
              "\n",
              "  <div id=\"df-1cf0307a-1398-49fc-9645-e88f67eb74a8\" class=\"colab-df-container\">\n",
              "    <div>\n",
              "<style scoped>\n",
              "    .dataframe tbody tr th:only-of-type {\n",
              "        vertical-align: middle;\n",
              "    }\n",
              "\n",
              "    .dataframe tbody tr th {\n",
              "        vertical-align: top;\n",
              "    }\n",
              "\n",
              "    .dataframe thead th {\n",
              "        text-align: right;\n",
              "    }\n",
              "</style>\n",
              "<table border=\"1\" class=\"dataframe\">\n",
              "  <thead>\n",
              "    <tr style=\"text-align: right;\">\n",
              "      <th></th>\n",
              "      <th>app_id</th>\n",
              "      <th>tags_string</th>\n",
              "      <th>user_id</th>\n",
              "      <th>title</th>\n",
              "      <th>rating_numeric</th>\n",
              "    </tr>\n",
              "  </thead>\n",
              "  <tbody>\n",
              "    <tr>\n",
              "      <th>0</th>\n",
              "      <td>951440</td>\n",
              "      <td>Open World Survival Craft, Survival, Open Worl...</td>\n",
              "      <td>9074881</td>\n",
              "      <td>Volcanoids</td>\n",
              "      <td>4.5</td>\n",
              "    </tr>\n",
              "    <tr>\n",
              "      <th>1</th>\n",
              "      <td>32440</td>\n",
              "      <td>LEGO, Local Co-Op, Adventure, Co-op, Family Fr...</td>\n",
              "      <td>6006822</td>\n",
              "      <td>LEGO® Star Wars™ - The Complete Saga</td>\n",
              "      <td>5.0</td>\n",
              "    </tr>\n",
              "    <tr>\n",
              "      <th>2</th>\n",
              "      <td>615610</td>\n",
              "      <td>Indie, Casual, Action, Space, 2D, Singleplayer...</td>\n",
              "      <td>1239</td>\n",
              "      <td>Orbt XL</td>\n",
              "      <td>5.0</td>\n",
              "    </tr>\n",
              "    <tr>\n",
              "      <th>3</th>\n",
              "      <td>1097840</td>\n",
              "      <td>Action, Adventure, Multiplayer, Third-Person S...</td>\n",
              "      <td>9255103</td>\n",
              "      <td>Gears 5</td>\n",
              "      <td>3.5</td>\n",
              "    </tr>\n",
              "    <tr>\n",
              "      <th>4</th>\n",
              "      <td>464060</td>\n",
              "      <td>Cyberpunk, Action, Top-Down Shooter, Great Sou...</td>\n",
              "      <td>5324004</td>\n",
              "      <td>RUINER</td>\n",
              "      <td>4.5</td>\n",
              "    </tr>\n",
              "  </tbody>\n",
              "</table>\n",
              "</div>\n",
              "    <div class=\"colab-df-buttons\">\n",
              "\n",
              "  <div class=\"colab-df-container\">\n",
              "    <button class=\"colab-df-convert\" onclick=\"convertToInteractive('df-1cf0307a-1398-49fc-9645-e88f67eb74a8')\"\n",
              "            title=\"Convert this dataframe to an interactive table.\"\n",
              "            style=\"display:none;\">\n",
              "\n",
              "  <svg xmlns=\"http://www.w3.org/2000/svg\" height=\"24px\" viewBox=\"0 -960 960 960\">\n",
              "    <path d=\"M120-120v-720h720v720H120Zm60-500h600v-160H180v160Zm220 220h160v-160H400v160Zm0 220h160v-160H400v160ZM180-400h160v-160H180v160Zm440 0h160v-160H620v160ZM180-180h160v-160H180v160Zm440 0h160v-160H620v160Z\"/>\n",
              "  </svg>\n",
              "    </button>\n",
              "\n",
              "  <style>\n",
              "    .colab-df-container {\n",
              "      display:flex;\n",
              "      gap: 12px;\n",
              "    }\n",
              "\n",
              "    .colab-df-convert {\n",
              "      background-color: #E8F0FE;\n",
              "      border: none;\n",
              "      border-radius: 50%;\n",
              "      cursor: pointer;\n",
              "      display: none;\n",
              "      fill: #1967D2;\n",
              "      height: 32px;\n",
              "      padding: 0 0 0 0;\n",
              "      width: 32px;\n",
              "    }\n",
              "\n",
              "    .colab-df-convert:hover {\n",
              "      background-color: #E2EBFA;\n",
              "      box-shadow: 0px 1px 2px rgba(60, 64, 67, 0.3), 0px 1px 3px 1px rgba(60, 64, 67, 0.15);\n",
              "      fill: #174EA6;\n",
              "    }\n",
              "\n",
              "    .colab-df-buttons div {\n",
              "      margin-bottom: 4px;\n",
              "    }\n",
              "\n",
              "    [theme=dark] .colab-df-convert {\n",
              "      background-color: #3B4455;\n",
              "      fill: #D2E3FC;\n",
              "    }\n",
              "\n",
              "    [theme=dark] .colab-df-convert:hover {\n",
              "      background-color: #434B5C;\n",
              "      box-shadow: 0px 1px 3px 1px rgba(0, 0, 0, 0.15);\n",
              "      filter: drop-shadow(0px 1px 2px rgba(0, 0, 0, 0.3));\n",
              "      fill: #FFFFFF;\n",
              "    }\n",
              "  </style>\n",
              "\n",
              "    <script>\n",
              "      const buttonEl =\n",
              "        document.querySelector('#df-1cf0307a-1398-49fc-9645-e88f67eb74a8 button.colab-df-convert');\n",
              "      buttonEl.style.display =\n",
              "        google.colab.kernel.accessAllowed ? 'block' : 'none';\n",
              "\n",
              "      async function convertToInteractive(key) {\n",
              "        const element = document.querySelector('#df-1cf0307a-1398-49fc-9645-e88f67eb74a8');\n",
              "        const dataTable =\n",
              "          await google.colab.kernel.invokeFunction('convertToInteractive',\n",
              "                                                    [key], {});\n",
              "        if (!dataTable) return;\n",
              "\n",
              "        const docLinkHtml = 'Like what you see? Visit the ' +\n",
              "          '<a target=\"_blank\" href=https://colab.research.google.com/notebooks/data_table.ipynb>data table notebook</a>'\n",
              "          + ' to learn more about interactive tables.';\n",
              "        element.innerHTML = '';\n",
              "        dataTable['output_type'] = 'display_data';\n",
              "        await google.colab.output.renderOutput(dataTable, element);\n",
              "        const docLink = document.createElement('div');\n",
              "        docLink.innerHTML = docLinkHtml;\n",
              "        element.appendChild(docLink);\n",
              "      }\n",
              "    </script>\n",
              "  </div>\n",
              "\n",
              "\n",
              "<div id=\"df-74c1797c-1ce9-4cd6-aa5b-d7404cd97c2f\">\n",
              "  <button class=\"colab-df-quickchart\" onclick=\"quickchart('df-74c1797c-1ce9-4cd6-aa5b-d7404cd97c2f')\"\n",
              "            title=\"Suggest charts\"\n",
              "            style=\"display:none;\">\n",
              "\n",
              "<svg xmlns=\"http://www.w3.org/2000/svg\" height=\"24px\"viewBox=\"0 0 24 24\"\n",
              "     width=\"24px\">\n",
              "    <g>\n",
              "        <path d=\"M19 3H5c-1.1 0-2 .9-2 2v14c0 1.1.9 2 2 2h14c1.1 0 2-.9 2-2V5c0-1.1-.9-2-2-2zM9 17H7v-7h2v7zm4 0h-2V7h2v10zm4 0h-2v-4h2v4z\"/>\n",
              "    </g>\n",
              "</svg>\n",
              "  </button>\n",
              "\n",
              "<style>\n",
              "  .colab-df-quickchart {\n",
              "      --bg-color: #E8F0FE;\n",
              "      --fill-color: #1967D2;\n",
              "      --hover-bg-color: #E2EBFA;\n",
              "      --hover-fill-color: #174EA6;\n",
              "      --disabled-fill-color: #AAA;\n",
              "      --disabled-bg-color: #DDD;\n",
              "  }\n",
              "\n",
              "  [theme=dark] .colab-df-quickchart {\n",
              "      --bg-color: #3B4455;\n",
              "      --fill-color: #D2E3FC;\n",
              "      --hover-bg-color: #434B5C;\n",
              "      --hover-fill-color: #FFFFFF;\n",
              "      --disabled-bg-color: #3B4455;\n",
              "      --disabled-fill-color: #666;\n",
              "  }\n",
              "\n",
              "  .colab-df-quickchart {\n",
              "    background-color: var(--bg-color);\n",
              "    border: none;\n",
              "    border-radius: 50%;\n",
              "    cursor: pointer;\n",
              "    display: none;\n",
              "    fill: var(--fill-color);\n",
              "    height: 32px;\n",
              "    padding: 0;\n",
              "    width: 32px;\n",
              "  }\n",
              "\n",
              "  .colab-df-quickchart:hover {\n",
              "    background-color: var(--hover-bg-color);\n",
              "    box-shadow: 0 1px 2px rgba(60, 64, 67, 0.3), 0 1px 3px 1px rgba(60, 64, 67, 0.15);\n",
              "    fill: var(--button-hover-fill-color);\n",
              "  }\n",
              "\n",
              "  .colab-df-quickchart-complete:disabled,\n",
              "  .colab-df-quickchart-complete:disabled:hover {\n",
              "    background-color: var(--disabled-bg-color);\n",
              "    fill: var(--disabled-fill-color);\n",
              "    box-shadow: none;\n",
              "  }\n",
              "\n",
              "  .colab-df-spinner {\n",
              "    border: 2px solid var(--fill-color);\n",
              "    border-color: transparent;\n",
              "    border-bottom-color: var(--fill-color);\n",
              "    animation:\n",
              "      spin 1s steps(1) infinite;\n",
              "  }\n",
              "\n",
              "  @keyframes spin {\n",
              "    0% {\n",
              "      border-color: transparent;\n",
              "      border-bottom-color: var(--fill-color);\n",
              "      border-left-color: var(--fill-color);\n",
              "    }\n",
              "    20% {\n",
              "      border-color: transparent;\n",
              "      border-left-color: var(--fill-color);\n",
              "      border-top-color: var(--fill-color);\n",
              "    }\n",
              "    30% {\n",
              "      border-color: transparent;\n",
              "      border-left-color: var(--fill-color);\n",
              "      border-top-color: var(--fill-color);\n",
              "      border-right-color: var(--fill-color);\n",
              "    }\n",
              "    40% {\n",
              "      border-color: transparent;\n",
              "      border-right-color: var(--fill-color);\n",
              "      border-top-color: var(--fill-color);\n",
              "    }\n",
              "    60% {\n",
              "      border-color: transparent;\n",
              "      border-right-color: var(--fill-color);\n",
              "    }\n",
              "    80% {\n",
              "      border-color: transparent;\n",
              "      border-right-color: var(--fill-color);\n",
              "      border-bottom-color: var(--fill-color);\n",
              "    }\n",
              "    90% {\n",
              "      border-color: transparent;\n",
              "      border-bottom-color: var(--fill-color);\n",
              "    }\n",
              "  }\n",
              "</style>\n",
              "\n",
              "  <script>\n",
              "    async function quickchart(key) {\n",
              "      const quickchartButtonEl =\n",
              "        document.querySelector('#' + key + ' button');\n",
              "      quickchartButtonEl.disabled = true;  // To prevent multiple clicks.\n",
              "      quickchartButtonEl.classList.add('colab-df-spinner');\n",
              "      try {\n",
              "        const charts = await google.colab.kernel.invokeFunction(\n",
              "            'suggestCharts', [key], {});\n",
              "      } catch (error) {\n",
              "        console.error('Error during call to suggestCharts:', error);\n",
              "      }\n",
              "      quickchartButtonEl.classList.remove('colab-df-spinner');\n",
              "      quickchartButtonEl.classList.add('colab-df-quickchart-complete');\n",
              "    }\n",
              "    (() => {\n",
              "      let quickchartButtonEl =\n",
              "        document.querySelector('#df-74c1797c-1ce9-4cd6-aa5b-d7404cd97c2f button');\n",
              "      quickchartButtonEl.style.display =\n",
              "        google.colab.kernel.accessAllowed ? 'block' : 'none';\n",
              "    })();\n",
              "  </script>\n",
              "</div>\n",
              "\n",
              "    </div>\n",
              "  </div>\n"
            ],
            "application/vnd.google.colaboratory.intrinsic+json": {
              "type": "dataframe",
              "variable_name": "sampled_data"
            }
          },
          "metadata": {},
          "execution_count": 8
        }
      ]
    },
    {
      "cell_type": "code",
      "source": [
        "collaborative_df = sampled_data [['user_id', 'app_id', 'title', 'rating_numeric']]\n",
        "collaborative_df.head()"
      ],
      "metadata": {
        "colab": {
          "base_uri": "https://localhost:8080/",
          "height": 206
        },
        "id": "htrNCFRzqntT",
        "outputId": "427c231f-aad4-4f69-8a23-8fd125093858"
      },
      "execution_count": 11,
      "outputs": [
        {
          "output_type": "execute_result",
          "data": {
            "text/plain": [
              "   user_id   app_id                                 title  rating_numeric\n",
              "0  9074881   951440                            Volcanoids             4.5\n",
              "1  6006822    32440  LEGO® Star Wars™ - The Complete Saga             5.0\n",
              "2     1239   615610                               Orbt XL             5.0\n",
              "3  9255103  1097840                               Gears 5             3.5\n",
              "4  5324004   464060                                RUINER             4.5"
            ],
            "text/html": [
              "\n",
              "  <div id=\"df-b36d073f-6197-4ac9-b077-3e6521176110\" class=\"colab-df-container\">\n",
              "    <div>\n",
              "<style scoped>\n",
              "    .dataframe tbody tr th:only-of-type {\n",
              "        vertical-align: middle;\n",
              "    }\n",
              "\n",
              "    .dataframe tbody tr th {\n",
              "        vertical-align: top;\n",
              "    }\n",
              "\n",
              "    .dataframe thead th {\n",
              "        text-align: right;\n",
              "    }\n",
              "</style>\n",
              "<table border=\"1\" class=\"dataframe\">\n",
              "  <thead>\n",
              "    <tr style=\"text-align: right;\">\n",
              "      <th></th>\n",
              "      <th>user_id</th>\n",
              "      <th>app_id</th>\n",
              "      <th>title</th>\n",
              "      <th>rating_numeric</th>\n",
              "    </tr>\n",
              "  </thead>\n",
              "  <tbody>\n",
              "    <tr>\n",
              "      <th>0</th>\n",
              "      <td>9074881</td>\n",
              "      <td>951440</td>\n",
              "      <td>Volcanoids</td>\n",
              "      <td>4.5</td>\n",
              "    </tr>\n",
              "    <tr>\n",
              "      <th>1</th>\n",
              "      <td>6006822</td>\n",
              "      <td>32440</td>\n",
              "      <td>LEGO® Star Wars™ - The Complete Saga</td>\n",
              "      <td>5.0</td>\n",
              "    </tr>\n",
              "    <tr>\n",
              "      <th>2</th>\n",
              "      <td>1239</td>\n",
              "      <td>615610</td>\n",
              "      <td>Orbt XL</td>\n",
              "      <td>5.0</td>\n",
              "    </tr>\n",
              "    <tr>\n",
              "      <th>3</th>\n",
              "      <td>9255103</td>\n",
              "      <td>1097840</td>\n",
              "      <td>Gears 5</td>\n",
              "      <td>3.5</td>\n",
              "    </tr>\n",
              "    <tr>\n",
              "      <th>4</th>\n",
              "      <td>5324004</td>\n",
              "      <td>464060</td>\n",
              "      <td>RUINER</td>\n",
              "      <td>4.5</td>\n",
              "    </tr>\n",
              "  </tbody>\n",
              "</table>\n",
              "</div>\n",
              "    <div class=\"colab-df-buttons\">\n",
              "\n",
              "  <div class=\"colab-df-container\">\n",
              "    <button class=\"colab-df-convert\" onclick=\"convertToInteractive('df-b36d073f-6197-4ac9-b077-3e6521176110')\"\n",
              "            title=\"Convert this dataframe to an interactive table.\"\n",
              "            style=\"display:none;\">\n",
              "\n",
              "  <svg xmlns=\"http://www.w3.org/2000/svg\" height=\"24px\" viewBox=\"0 -960 960 960\">\n",
              "    <path d=\"M120-120v-720h720v720H120Zm60-500h600v-160H180v160Zm220 220h160v-160H400v160Zm0 220h160v-160H400v160ZM180-400h160v-160H180v160Zm440 0h160v-160H620v160ZM180-180h160v-160H180v160Zm440 0h160v-160H620v160Z\"/>\n",
              "  </svg>\n",
              "    </button>\n",
              "\n",
              "  <style>\n",
              "    .colab-df-container {\n",
              "      display:flex;\n",
              "      gap: 12px;\n",
              "    }\n",
              "\n",
              "    .colab-df-convert {\n",
              "      background-color: #E8F0FE;\n",
              "      border: none;\n",
              "      border-radius: 50%;\n",
              "      cursor: pointer;\n",
              "      display: none;\n",
              "      fill: #1967D2;\n",
              "      height: 32px;\n",
              "      padding: 0 0 0 0;\n",
              "      width: 32px;\n",
              "    }\n",
              "\n",
              "    .colab-df-convert:hover {\n",
              "      background-color: #E2EBFA;\n",
              "      box-shadow: 0px 1px 2px rgba(60, 64, 67, 0.3), 0px 1px 3px 1px rgba(60, 64, 67, 0.15);\n",
              "      fill: #174EA6;\n",
              "    }\n",
              "\n",
              "    .colab-df-buttons div {\n",
              "      margin-bottom: 4px;\n",
              "    }\n",
              "\n",
              "    [theme=dark] .colab-df-convert {\n",
              "      background-color: #3B4455;\n",
              "      fill: #D2E3FC;\n",
              "    }\n",
              "\n",
              "    [theme=dark] .colab-df-convert:hover {\n",
              "      background-color: #434B5C;\n",
              "      box-shadow: 0px 1px 3px 1px rgba(0, 0, 0, 0.15);\n",
              "      filter: drop-shadow(0px 1px 2px rgba(0, 0, 0, 0.3));\n",
              "      fill: #FFFFFF;\n",
              "    }\n",
              "  </style>\n",
              "\n",
              "    <script>\n",
              "      const buttonEl =\n",
              "        document.querySelector('#df-b36d073f-6197-4ac9-b077-3e6521176110 button.colab-df-convert');\n",
              "      buttonEl.style.display =\n",
              "        google.colab.kernel.accessAllowed ? 'block' : 'none';\n",
              "\n",
              "      async function convertToInteractive(key) {\n",
              "        const element = document.querySelector('#df-b36d073f-6197-4ac9-b077-3e6521176110');\n",
              "        const dataTable =\n",
              "          await google.colab.kernel.invokeFunction('convertToInteractive',\n",
              "                                                    [key], {});\n",
              "        if (!dataTable) return;\n",
              "\n",
              "        const docLinkHtml = 'Like what you see? Visit the ' +\n",
              "          '<a target=\"_blank\" href=https://colab.research.google.com/notebooks/data_table.ipynb>data table notebook</a>'\n",
              "          + ' to learn more about interactive tables.';\n",
              "        element.innerHTML = '';\n",
              "        dataTable['output_type'] = 'display_data';\n",
              "        await google.colab.output.renderOutput(dataTable, element);\n",
              "        const docLink = document.createElement('div');\n",
              "        docLink.innerHTML = docLinkHtml;\n",
              "        element.appendChild(docLink);\n",
              "      }\n",
              "    </script>\n",
              "  </div>\n",
              "\n",
              "\n",
              "<div id=\"df-08e0026a-2dde-4302-a62a-0ff026bc7d1c\">\n",
              "  <button class=\"colab-df-quickchart\" onclick=\"quickchart('df-08e0026a-2dde-4302-a62a-0ff026bc7d1c')\"\n",
              "            title=\"Suggest charts\"\n",
              "            style=\"display:none;\">\n",
              "\n",
              "<svg xmlns=\"http://www.w3.org/2000/svg\" height=\"24px\"viewBox=\"0 0 24 24\"\n",
              "     width=\"24px\">\n",
              "    <g>\n",
              "        <path d=\"M19 3H5c-1.1 0-2 .9-2 2v14c0 1.1.9 2 2 2h14c1.1 0 2-.9 2-2V5c0-1.1-.9-2-2-2zM9 17H7v-7h2v7zm4 0h-2V7h2v10zm4 0h-2v-4h2v4z\"/>\n",
              "    </g>\n",
              "</svg>\n",
              "  </button>\n",
              "\n",
              "<style>\n",
              "  .colab-df-quickchart {\n",
              "      --bg-color: #E8F0FE;\n",
              "      --fill-color: #1967D2;\n",
              "      --hover-bg-color: #E2EBFA;\n",
              "      --hover-fill-color: #174EA6;\n",
              "      --disabled-fill-color: #AAA;\n",
              "      --disabled-bg-color: #DDD;\n",
              "  }\n",
              "\n",
              "  [theme=dark] .colab-df-quickchart {\n",
              "      --bg-color: #3B4455;\n",
              "      --fill-color: #D2E3FC;\n",
              "      --hover-bg-color: #434B5C;\n",
              "      --hover-fill-color: #FFFFFF;\n",
              "      --disabled-bg-color: #3B4455;\n",
              "      --disabled-fill-color: #666;\n",
              "  }\n",
              "\n",
              "  .colab-df-quickchart {\n",
              "    background-color: var(--bg-color);\n",
              "    border: none;\n",
              "    border-radius: 50%;\n",
              "    cursor: pointer;\n",
              "    display: none;\n",
              "    fill: var(--fill-color);\n",
              "    height: 32px;\n",
              "    padding: 0;\n",
              "    width: 32px;\n",
              "  }\n",
              "\n",
              "  .colab-df-quickchart:hover {\n",
              "    background-color: var(--hover-bg-color);\n",
              "    box-shadow: 0 1px 2px rgba(60, 64, 67, 0.3), 0 1px 3px 1px rgba(60, 64, 67, 0.15);\n",
              "    fill: var(--button-hover-fill-color);\n",
              "  }\n",
              "\n",
              "  .colab-df-quickchart-complete:disabled,\n",
              "  .colab-df-quickchart-complete:disabled:hover {\n",
              "    background-color: var(--disabled-bg-color);\n",
              "    fill: var(--disabled-fill-color);\n",
              "    box-shadow: none;\n",
              "  }\n",
              "\n",
              "  .colab-df-spinner {\n",
              "    border: 2px solid var(--fill-color);\n",
              "    border-color: transparent;\n",
              "    border-bottom-color: var(--fill-color);\n",
              "    animation:\n",
              "      spin 1s steps(1) infinite;\n",
              "  }\n",
              "\n",
              "  @keyframes spin {\n",
              "    0% {\n",
              "      border-color: transparent;\n",
              "      border-bottom-color: var(--fill-color);\n",
              "      border-left-color: var(--fill-color);\n",
              "    }\n",
              "    20% {\n",
              "      border-color: transparent;\n",
              "      border-left-color: var(--fill-color);\n",
              "      border-top-color: var(--fill-color);\n",
              "    }\n",
              "    30% {\n",
              "      border-color: transparent;\n",
              "      border-left-color: var(--fill-color);\n",
              "      border-top-color: var(--fill-color);\n",
              "      border-right-color: var(--fill-color);\n",
              "    }\n",
              "    40% {\n",
              "      border-color: transparent;\n",
              "      border-right-color: var(--fill-color);\n",
              "      border-top-color: var(--fill-color);\n",
              "    }\n",
              "    60% {\n",
              "      border-color: transparent;\n",
              "      border-right-color: var(--fill-color);\n",
              "    }\n",
              "    80% {\n",
              "      border-color: transparent;\n",
              "      border-right-color: var(--fill-color);\n",
              "      border-bottom-color: var(--fill-color);\n",
              "    }\n",
              "    90% {\n",
              "      border-color: transparent;\n",
              "      border-bottom-color: var(--fill-color);\n",
              "    }\n",
              "  }\n",
              "</style>\n",
              "\n",
              "  <script>\n",
              "    async function quickchart(key) {\n",
              "      const quickchartButtonEl =\n",
              "        document.querySelector('#' + key + ' button');\n",
              "      quickchartButtonEl.disabled = true;  // To prevent multiple clicks.\n",
              "      quickchartButtonEl.classList.add('colab-df-spinner');\n",
              "      try {\n",
              "        const charts = await google.colab.kernel.invokeFunction(\n",
              "            'suggestCharts', [key], {});\n",
              "      } catch (error) {\n",
              "        console.error('Error during call to suggestCharts:', error);\n",
              "      }\n",
              "      quickchartButtonEl.classList.remove('colab-df-spinner');\n",
              "      quickchartButtonEl.classList.add('colab-df-quickchart-complete');\n",
              "    }\n",
              "    (() => {\n",
              "      let quickchartButtonEl =\n",
              "        document.querySelector('#df-08e0026a-2dde-4302-a62a-0ff026bc7d1c button');\n",
              "      quickchartButtonEl.style.display =\n",
              "        google.colab.kernel.accessAllowed ? 'block' : 'none';\n",
              "    })();\n",
              "  </script>\n",
              "</div>\n",
              "\n",
              "    </div>\n",
              "  </div>\n"
            ],
            "application/vnd.google.colaboratory.intrinsic+json": {
              "type": "dataframe",
              "variable_name": "collaborative_df"
            }
          },
          "metadata": {},
          "execution_count": 11
        }
      ]
    },
    {
      "cell_type": "code",
      "source": [
        "plt.figure(figsize=(9, 6))\n",
        "sn.countplot( x='rating_numeric' , data = collaborative_df ,\n",
        "    palette = [\n",
        "    'DeepSkyBlue',        # 5.0 Very Positive\n",
        "    'LightSkyBlue',       # 4.5 Positive\n",
        "    'DarkOrange',         # 4.0 Mixed\n",
        "    'LightSalmon',        # 3.5 Mostly Positive\n",
        "    'LimeGreen',          # 3.0 Overwhelmingly Positive\n",
        "    'Red',                # 2.5 Negative\n",
        "    'LightCoral',         # 2.0 Mostly Negative\n",
        "    'MediumPurple',       # 1.5 Overwhelmingly Negative\n",
        "    'RosyBrown'           # 1.0 Very Negative\n",
        "])\n",
        "plt.xticks(rotation=45)\n",
        "plt.title('Score Layout Visualization')\n",
        "plt.tight_layout()"
      ],
      "metadata": {
        "colab": {
          "base_uri": "https://localhost:8080/",
          "height": 698
        },
        "id": "CCZTZi8irH0o",
        "outputId": "7e5dec5f-ab94-4f7e-a01a-4a1c344013e9"
      },
      "execution_count": 12,
      "outputs": [
        {
          "output_type": "stream",
          "name": "stderr",
          "text": [
            "<ipython-input-12-b64a267cacba>:2: FutureWarning: \n",
            "\n",
            "Passing `palette` without assigning `hue` is deprecated and will be removed in v0.14.0. Assign the `x` variable to `hue` and set `legend=False` for the same effect.\n",
            "\n",
            "  sn.countplot( x='rating_numeric' , data = collaborative_df ,\n"
          ]
        },
        {
          "output_type": "display_data",
          "data": {
            "text/plain": [
              "<Figure size 900x600 with 1 Axes>"
            ],
            "image/png": "[encoded data removed]"
          },
          "metadata": {}
        }
      ]
    },
    {
      "cell_type": "code",
      "source": [
        "collaborative_df.info()"
      ],
      "metadata": {
        "colab": {
          "base_uri": "https://localhost:8080/"
        },
        "id": "Iyzb_II_rj61",
        "outputId": "192a1842-48cb-4c63-e3b2-a47d7e820f4f"
      },
      "execution_count": 13,
      "outputs": [
        {
          "output_type": "stream",
          "name": "stdout",
          "text": [
            "<class 'pandas.core.frame.DataFrame'>\n",
            "RangeIndex: 1000000 entries, 0 to 999999\n",
            "Data columns (total 4 columns):\n",
            " #   Column          Non-Null Count    Dtype  \n",
            "---  ------          --------------    -----  \n",
            " 0   user_id         1000000 non-null  int64  \n",
            " 1   app_id          1000000 non-null  int64  \n",
            " 2   title           1000000 non-null  object \n",
            " 3   rating_numeric  1000000 non-null  float64\n",
            "dtypes: float64(1), int64(2), object(1)\n",
            "memory usage: 30.5+ MB\n"
          ]
        }
      ]
    },
    {
      "cell_type": "code",
      "source": [
        "collaborative_df['user_id'] = collaborative_df['user_id'].astype('float32')\n",
        "collaborative_df['app_id'] = collaborative_df['app_id'].astype('float32')\n",
        "collaborative_df['rating_numeric'] = collaborative_df['rating_numeric'].astype('float32')"
      ],
      "metadata": {
        "colab": {
          "base_uri": "https://localhost:8080/"
        },
        "id": "RE_6Tw6wrya0",
        "outputId": "f4bfd568-8b42-4d4f-d7a7-7bc0fd14cd11"
      },
      "execution_count": 14,
      "outputs": [
        {
          "output_type": "stream",
          "name": "stderr",
          "text": [
            "<ipython-input-14-8f9152466753>:1: SettingWithCopyWarning: \n",
            "A value is trying to be set on a copy of a slice from a DataFrame.\n",
            "Try using .loc[row_indexer,col_indexer] = value instead\n",
            "\n",
            "See the caveats in the documentation: https://pandas.pydata.org/pandas-docs/stable/user_guide/indexing.html#returning-a-view-versus-a-copy\n",
            "  collaborative_df['user_id'] = collaborative_df['user_id'].astype('float32')\n",
            "<ipython-input-14-8f9152466753>:2: SettingWithCopyWarning: \n",
            "A value is trying to be set on a copy of a slice from a DataFrame.\n",
            "Try using .loc[row_indexer,col_indexer] = value instead\n",
            "\n",
            "See the caveats in the documentation: https://pandas.pydata.org/pandas-docs/stable/user_guide/indexing.html#returning-a-view-versus-a-copy\n",
            "  collaborative_df['app_id'] = collaborative_df['app_id'].astype('float32')\n",
            "<ipython-input-14-8f9152466753>:3: SettingWithCopyWarning: \n",
            "A value is trying to be set on a copy of a slice from a DataFrame.\n",
            "Try using .loc[row_indexer,col_indexer] = value instead\n",
            "\n",
            "See the caveats in the documentation: https://pandas.pydata.org/pandas-docs/stable/user_guide/indexing.html#returning-a-view-versus-a-copy\n",
            "  collaborative_df['rating_numeric'] = collaborative_df['rating_numeric'].astype('float32')\n"
          ]
        }
      ]
    },
    {
      "cell_type": "markdown",
      "source": [
        "# Preparing data for SVD model"
      ],
      "metadata": {
        "id": "rpjetd9LsZ4r"
      }
    },
    {
      "cell_type": "code",
      "source": [
        "# downloading data\n",
        "reader = Reader(rating_scale=(1, 5))\n",
        "data = Dataset.load_from_df(collaborative_df[['user_id', 'app_id', 'rating_numeric']], reader)\n",
        "\n",
        "# dividing the data into training and test data\n",
        "trainset, testset = train_test_split(data, test_size=0.2)"
      ],
      "metadata": {
        "id": "ojKLN5YOsY5A"
      },
      "execution_count": 15,
      "outputs": []
    },
    {
      "cell_type": "markdown",
      "source": [
        "# Model SVD"
      ],
      "metadata": {
        "id": "CKqRgbVksp4y"
      }
    },
    {
      "cell_type": "code",
      "source": [
        "model = SVD()\n",
        "model.fit(trainset)"
      ],
      "metadata": {
        "colab": {
          "base_uri": "https://localhost:8080/"
        },
        "id": "CwTnX8sesozD",
        "outputId": "b66752f7-e95f-403b-c9a4-72b3d8ed6107"
      },
      "execution_count": 16,
      "outputs": [
        {
          "output_type": "execute_result",
          "data": {
            "text/plain": [
              "<surprise.prediction_algorithms.matrix_factorization.SVD at 0x79517b823010>"
            ]
          },
          "metadata": {},
          "execution_count": 16
        }
      ]
    },
    {
      "cell_type": "code",
      "source": [
        "# test\n",
        "predictions = model.test(testset)\n",
        "rmse = accuracy.rmse(predictions)\n",
        "print(f'RMSE: {rmse}')"
      ],
      "metadata": {
        "colab": {
          "base_uri": "https://localhost:8080/"
        },
        "id": "DZZjgFMRs0zf",
        "outputId": "947a05c8-c93f-4dd2-fcfd-650959042e2c"
      },
      "execution_count": 17,
      "outputs": [
        {
          "output_type": "stream",
          "name": "stdout",
          "text": [
            "RMSE: 0.1895\n",
            "RMSE: 0.18946312252954234\n"
          ]
        }
      ]
    },
    {
      "cell_type": "markdown",
      "source": [
        "# Cross-validation and model estimation"
      ],
      "metadata": {
        "id": "2yZV0kves3J_"
      }
    },
    {
      "cell_type": "code",
      "source": [
        "# using cross-validation to estimate the model\n",
        "cross_val_results = cross_validate(model, data, measures=['RMSE', 'MAE'], cv=3, verbose=True)\n",
        "\n",
        "# RMSE & MAE\n",
        "mean_rmse = cross_val_results['test_rmse'].mean()\n",
        "mean_mae = cross_val_results['test_mae'].mean()\n",
        "print(f'Mean RMSE: {mean_rmse}')\n",
        "print(f'Mean MAE: {mean_mae}')"
      ],
      "metadata": {
        "colab": {
          "base_uri": "https://localhost:8080/"
        },
        "id": "z2vh7xqis53T",
        "outputId": "eaff0179-a1c9-436c-e33e-655dd04b63c6"
      },
      "execution_count": 18,
      "outputs": [
        {
          "output_type": "stream",
          "name": "stdout",
          "text": [
            "Evaluating RMSE, MAE of algorithm SVD on 3 split(s).\n",
            "\n",
            "                  Fold 1  Fold 2  Fold 3  Mean    Std     \n",
            "RMSE (testset)    0.2037  0.2017  0.2028  0.2027  0.0008  \n",
            "MAE (testset)     0.0854  0.0846  0.0853  0.0851  0.0004  \n",
            "Fit time          21.67   22.23   22.48   22.13   0.34    \n",
            "Test time         5.89    2.70    2.51    3.70    1.55    \n",
            "Mean RMSE: 0.20272424232845862\n",
            "Mean MAE: 0.08508051635758906\n"
          ]
        }
      ]
    },
    {
      "cell_type": "markdown",
      "source": [
        "# Prediction check"
      ],
      "metadata": {
        "id": "_onh7zgstoAk"
      }
    },
    {
      "cell_type": "code",
      "source": [
        "predictions = model.test(testset)\n",
        "for prediction in predictions[:10]:  # output of the first 10 predictions\n",
        "    print(f\"User: {prediction.uid}, Item: {prediction.iid}, Actual Rating: {prediction.r_ui}, Predicted Rating: {prediction.est}\")"
      ],
      "metadata": {
        "colab": {
          "base_uri": "https://localhost:8080/"
        },
        "id": "tT5QEnnutpxi",
        "outputId": "8574b3ad-6da7-4918-ac40-0205d6c536a9"
      },
      "execution_count": 19,
      "outputs": [
        {
          "output_type": "stream",
          "name": "stdout",
          "text": [
            "User: 10230654.0, Item: 221380.0, Actual Rating: 5.0, Predicted Rating: 4.9855876863615896\n",
            "User: 13006684.0, Item: 552450.0, Actual Rating: 4.5, Predicted Rating: 4.4632838910094925\n",
            "User: 5664018.0, Item: 1056960.0, Actual Rating: 3.0, Predicted Rating: 3.0383065718651183\n",
            "User: 5696620.0, Item: 274170.0, Actual Rating: 4.5, Predicted Rating: 4.494901214436889\n",
            "User: 4993.0, Item: 298110.0, Actual Rating: 4.5, Predicted Rating: 4.487848187518251\n",
            "User: 6721805.0, Item: 22610.0, Actual Rating: 3.5, Predicted Rating: 3.523356967354458\n",
            "User: 9517654.0, Item: 1222690.0, Actual Rating: 3.5, Predicted Rating: 3.5063810182611688\n",
            "User: 7452664.0, Item: 329440.0, Actual Rating: 3.0, Predicted Rating: 3.0656124097418016\n",
            "User: 11678674.0, Item: 409720.0, Actual Rating: 3.0, Predicted Rating: 3.0110724431325164\n",
            "User: 3823175.0, Item: 70600.0, Actual Rating: 4.5, Predicted Rating: 4.51603523833254\n"
          ]
        }
      ]
    },
    {
      "cell_type": "markdown",
      "source": [
        "# Top-K recommendations for the specified user"
      ],
      "metadata": {
        "id": "w8JFWb3jwQYk"
      }
    },
    {
      "cell_type": "code",
      "source": [
        "def get_top_k_recommendations(model, user_id, games_df, collaborative_df, k=10):\n",
        "    # get a list of all the games\n",
        "    all_games = games_df['app_id'].unique()\n",
        "    # getting a list of games that the user has already rated\n",
        "    user_rated_games = collaborative_df[collaborative_df['user_id'] == user_id]['app_id']\n",
        "    # exclusion of already rated games\n",
        "    games_to_predict = [game for game in all_games if game not in user_rated_games]\n",
        "    # predicting ratings for all unrated games\n",
        "    predictions = [model.predict(user_id, game) for game in games_to_predict]\n",
        "    # sorting forecasts by predicted rating\n",
        "    top_predictions = sorted(predictions, key=lambda x: x.est, reverse=True)[:k]\n",
        "    # getting information on top-K games\n",
        "    top_games = [\n",
        "        (pred.iid, collaborative_df[collaborative_df['app_id'] == pred.iid]['title'].iloc[0], pred.est)\n",
        "        for pred in top_predictions\n",
        "    ]\n",
        "\n",
        "    return top_games"
      ],
      "metadata": {
        "id": "IR3n0ZWsv8Q-"
      },
      "execution_count": 20,
      "outputs": []
    },
    {
      "cell_type": "code",
      "source": [
        "# entering the user ID and the number of recommendations\n",
        "user_id = input(\"Enter the user ID: \")\n",
        "k = int(input(\"Enter the number of recommendations: \"))"
      ],
      "metadata": {
        "colab": {
          "base_uri": "https://localhost:8080/"
        },
        "id": "WB-7f9jawgml",
        "outputId": "5b15c3b3-4128-4a35-8710-957979ade1ed"
      },
      "execution_count": 24,
      "outputs": [
        {
          "name": "stdout",
          "output_type": "stream",
          "text": [
            "Enter the user ID: 11892793\n",
            "Enter the number of recommendations: 10\n"
          ]
        }
      ]
    },
    {
      "cell_type": "code",
      "source": [
        "# top-K recommendations\n",
        "top_k_games = get_top_k_recommendations(model, user_id, collaborative_df[['app_id']], collaborative_df, k)\n",
        "print(f\"Тоp-{k} user recommendations {user_id}:\")\n",
        "for app_id, title, est in top_k_games:\n",
        "    print(f\"Game ID: {app_id}, Title: {title}, Predicted Rating: {est}\")"
      ],
      "metadata": {
        "colab": {
          "base_uri": "https://localhost:8080/"
        },
        "id": "pszdQnvIwuIw",
        "outputId": "393522c4-e9b6-4505-ebf0-6ebcba764f73"
      },
      "execution_count": 25,
      "outputs": [
        {
          "output_type": "stream",
          "name": "stdout",
          "text": [
            "Тоp-10 user recommendations 11892793:\n",
            "Game ID: 261180.0, Title: Lethal League, Predicted Rating: 4.993917959651524\n",
            "Game ID: 4570.0, Title: Warhammer® 40000: Dawn of War® - Game of the Year Edition, Predicted Rating: 4.992551669631116\n",
            "Game ID: 562220.0, Title: Zup! 2, Predicted Rating: 4.992293232858197\n",
            "Game ID: 511470.0, Title: Glass Masquerade, Predicted Rating: 4.991928619989361\n",
            "Game ID: 35700.0, Title: Trine Enchanted Edition, Predicted Rating: 4.991906572698225\n",
            "Game ID: 230270.0, Title: N++ (NPLUSPLUS), Predicted Rating: 4.991647525768363\n",
            "Game ID: 1147690.0, Title: NGU IDLE, Predicted Rating: 4.9916151450575\n",
            "Game ID: 359050.0, Title: Shower With Your Dad Simulator 2015: Do You Still Shower With Your Dad, Predicted Rating: 4.990924752496756\n",
            "Game ID: 593280.0, Title: Cat Quest, Predicted Rating: 4.9908989269675885\n",
            "Game ID: 597760.0, Title: Yuppie Psycho: Executive Edition, Predicted Rating: 4.989804906891887\n"
          ]
        }
      ]
    },
    {
      "cell_type": "markdown",
      "source": [
        "# Saving the model"
      ],
      "metadata": {
        "id": "6BgagYE7xMzB"
      }
    },
    {
      "cell_type": "code",
      "source": [
        "from google.colab import drive\n",
        "import pickle\n",
        "\n",
        "drive.mount('/content/drive')\n",
        "\n",
        "model_path = '/content/drive/MyDrive/svd_model.pkl'\n",
        "\n",
        "with open(model_path, 'wb') as f:\n",
        "    pickle.dump(model, f)\n",
        "\n",
        "print(f\"The model is saved along the path: {model_path}\")"
      ],
      "metadata": {
        "colab": {
          "base_uri": "https://localhost:8080/"
        },
        "id": "RA4c_S13xDGX",
        "outputId": "293a4a72-df00-4d17-d81d-7bd8aa73bded"
      },
      "execution_count": 26,
      "outputs": [
        {
          "output_type": "stream",
          "name": "stdout",
          "text": [
            "Mounted at /content/drive\n",
            "The model is saved along the path: /content/drive/MyDrive/svd_model.pkl\n"
          ]
        }
      ]
    }
  ]
}